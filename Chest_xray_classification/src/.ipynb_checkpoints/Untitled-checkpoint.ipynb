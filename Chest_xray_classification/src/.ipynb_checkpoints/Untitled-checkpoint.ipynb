{
 "cells": [
  {
   "cell_type": "code",
   "execution_count": 1,
   "metadata": {},
   "outputs": [],
   "source": [
    "import os\n",
    "import cv2\n",
    "import pandas as pd\n",
    "import numpy as np\n",
    "from matplotlib import pyplot as plt\n",
    "\n",
    "\n",
    "from sklearn.model_selection import train_test_split\n",
    "#import imageio\n",
    "#import matplotlib as mpl\n",
    "#import matplotlib.image as mpimg\n",
    "#import scipy.ndimage as ndi\n",
    "\n",
    "#from PIL import Image, ImageDraw \n",
    "#from PIL import ImagePath \n",
    "#from basic_image_eda import BasicImageEDA"
   ]
  },
  {
   "cell_type": "code",
   "execution_count": 2,
   "metadata": {},
   "outputs": [],
   "source": [
    "train_images = []\n",
    "for r, d, f in os.walk('../input/chest_xray/train'):\n",
    "     for file in f:\n",
    "       if file.endswith(\".jpeg\"):\n",
    "            train_images.append((os.path.join(r, file)))\n",
    "train_images.sort()"
   ]
  },
  {
   "cell_type": "code",
   "execution_count": 3,
   "metadata": {},
   "outputs": [
    {
     "data": {
      "text/plain": [
       "5216"
      ]
     },
     "execution_count": 3,
     "metadata": {},
     "output_type": "execute_result"
    }
   ],
   "source": [
    "len(train_images)"
   ]
  },
  {
   "cell_type": "code",
   "execution_count": 4,
   "metadata": {},
   "outputs": [],
   "source": [
    "train_labels = []"
   ]
  },
  {
   "cell_type": "code",
   "execution_count": 5,
   "metadata": {},
   "outputs": [],
   "source": [
    "for i in range(len(train_images)):\n",
    "  if 'bacteria' in train_images[i]:\n",
    "    train_labels.append((train_images[i],'BACTERIAL'))\n",
    "  elif 'virus' in train_images[i]:\n",
    "     train_labels.append((train_images[i],'VIRUS'))\n",
    "  else:\n",
    "    train_labels.append((train_images[i],'NORMAL'))"
   ]
  },
  {
   "cell_type": "code",
   "execution_count": 6,
   "metadata": {},
   "outputs": [],
   "source": [
    "train_df = pd.DataFrame(train_labels, columns =['IMAGE','LABEL'])"
   ]
  },
  {
   "cell_type": "code",
   "execution_count": 7,
   "metadata": {},
   "outputs": [],
   "source": [
    "test_images = []\n",
    "for r, d, f in os.walk('../input/chest_xray/test'):\n",
    "     for file in f:\n",
    "       if file.endswith(\".jpeg\"):\n",
    "            test_images.append((os.path.join(r, file)))\n",
    "test_images.sort()"
   ]
  },
  {
   "cell_type": "code",
   "execution_count": 8,
   "metadata": {},
   "outputs": [
    {
     "data": {
      "text/plain": [
       "624"
      ]
     },
     "execution_count": 8,
     "metadata": {},
     "output_type": "execute_result"
    }
   ],
   "source": [
    "len(test_images)"
   ]
  },
  {
   "cell_type": "code",
   "execution_count": 9,
   "metadata": {},
   "outputs": [],
   "source": [
    "test_labels = []"
   ]
  },
  {
   "cell_type": "code",
   "execution_count": 10,
   "metadata": {},
   "outputs": [],
   "source": [
    "for i in range(len(test_images)):\n",
    "    if 'bacteria' in test_images[i]:\n",
    "        test_labels.append((test_images[i],'BACTERIAL'))\n",
    "    elif 'virus' in test_images[i]:\n",
    "        test_labels.append((test_images[i],'VIRUS'))\n",
    "    else:\n",
    "        test_labels.append((test_images[i],'NORMAL'))"
   ]
  },
  {
   "cell_type": "code",
   "execution_count": 11,
   "metadata": {},
   "outputs": [],
   "source": [
    "test_df = pd.DataFrame(test_labels, columns =['IMAGE','LABEL'])"
   ]
  },
  {
   "cell_type": "code",
   "execution_count": 12,
   "metadata": {},
   "outputs": [],
   "source": [
    "val_images = []\n",
    "for r, d, f in os.walk('../input/chest_xray/val'):\n",
    "     for file in f:\n",
    "       if file.endswith(\".jpeg\"):\n",
    "            val_images.append((os.path.join(r, file)))\n",
    "val_images.sort()"
   ]
  },
  {
   "cell_type": "code",
   "execution_count": 13,
   "metadata": {},
   "outputs": [
    {
     "data": {
      "text/plain": [
       "16"
      ]
     },
     "execution_count": 13,
     "metadata": {},
     "output_type": "execute_result"
    }
   ],
   "source": [
    "len(val_images)"
   ]
  },
  {
   "cell_type": "code",
   "execution_count": 14,
   "metadata": {},
   "outputs": [],
   "source": [
    "val_labels = []"
   ]
  },
  {
   "cell_type": "code",
   "execution_count": 15,
   "metadata": {},
   "outputs": [],
   "source": [
    "for i in range(len(val_images)):\n",
    "    if 'bacteria' in val_images[i]:\n",
    "        val_labels.append((val_images[i],'BACTERIAL'))\n",
    "    elif 'virus' in val_images[i]:\n",
    "        val_labels.append((val_images[i],'VIRUS'))\n",
    "    else:\n",
    "        val_labels.append((val_images[i],'NORMAL'))"
   ]
  },
  {
   "cell_type": "code",
   "execution_count": 16,
   "metadata": {},
   "outputs": [],
   "source": [
    "val_df = pd.DataFrame(val_labels, columns =['IMAGE','LABEL'])"
   ]
  },
  {
   "cell_type": "code",
   "execution_count": null,
   "metadata": {},
   "outputs": [],
   "source": []
  },
  {
   "cell_type": "code",
   "execution_count": 23,
   "metadata": {},
   "outputs": [],
   "source": [
    "frames = [train_df, val_df] \n",
    "combined_frames = pd.concat(frames) # combining train and val df's for a new split\n",
    "combined_frames.sample(frac=1).reset_index(drop=True) # shuffling combined df"
   ]
  },
  {
   "cell_type": "code",
   "execution_count": 25,
   "metadata": {},
   "outputs": [],
   "source": [
    "train_df, val_df = train_test_split(combined_frames, test_size=0.2) # making a new split 80 / 20"
   ]
  },
  {
   "cell_type": "code",
   "execution_count": 32,
   "metadata": {},
   "outputs": [
    {
     "name": "stdout",
     "output_type": "stream",
     "text": [
      "Number of train images: 4185\n",
      "Number of val images: 1047\n",
      "Number of test images: 624\n"
     ]
    }
   ],
   "source": [
    "print(\"Number of train images: \" + str(len(train_df)))\n",
    "print(\"Number of val images: \" + str(len(val_df)))\n",
    "print(\"Number of test images: \" + str(len(test_df)))"
   ]
  },
  {
   "cell_type": "code",
   "execution_count": 38,
   "metadata": {},
   "outputs": [
    {
     "data": {
      "image/png": "[encoded data removed]",
      "text/plain": [
       "<Figure size 432x288 with 1 Axes>"
      ]
     },
     "metadata": {
      "needs_background": "light"
     },
     "output_type": "display_data"
    },
    {
     "name": "stdout",
     "output_type": "stream",
     "text": [
      "Number of data points in class 1 : 2022 ( 48.315 %)\n",
      "--------------------------------------------------------------------------------\n",
      "Number of data points in class 2 : 1086 ( 25.95 %)\n",
      "--------------------------------------------------------------------------------\n",
      "Number of data points in class 3 : 1077 ( 25.735 %)\n",
      "--------------------------------------------------------------------------------\n"
     ]
    },
    {
     "data": {
      "image/png": "[encoded data removed]",
      "text/plain": [
       "<Figure size 432x288 with 1 Axes>"
      ]
     },
     "metadata": {
      "needs_background": "light"
     },
     "output_type": "display_data"
    },
    {
     "name": "stdout",
     "output_type": "stream",
     "text": [
      "Number of data points in class 1 : 516 ( 49.284 %)\n",
      "--------------------------------------------------------------------------------\n",
      "Number of data points in class 2 : 268 ( 25.597 %)\n",
      "--------------------------------------------------------------------------------\n",
      "Number of data points in class 3 : 263 ( 25.119 %)\n",
      "--------------------------------------------------------------------------------\n"
     ]
    }
   ],
   "source": [
    "# assignment from applied course (NLP with Transfer learning)\n",
    "train_class_distribution = train_df['LABEL'].value_counts()\n",
    "val_class_distribution = val_df['LABEL'].value_counts()\n",
    "my_colors = ['r', 'g','b']\n",
    "train_class_distribution.plot(kind='bar', color=my_colors)\n",
    "plt.xlabel('Class')\n",
    "plt.ylabel('Data points per Class')\n",
    "plt.title('Distribution of points in train data')\n",
    "plt.grid()\n",
    "plt.show()\n",
    "\n",
    "sorted_yi = np.argsort(-train_class_distribution.values)\n",
    "for i in sorted_yi:\n",
    " print('Number of data points in class', i+1, ':',train_class_distribution.values[i], '(', np.round((train_class_distribution.values[i]/train_df.values.shape[0]*100), 3), '%)')\n",
    " print('-'*80)\n",
    "my_colors = ['r', 'g','b']\n",
    "val_class_distribution.plot(kind='bar', color=my_colors)\n",
    "plt.xlabel('Class')\n",
    "plt.ylabel('Data points per Class')\n",
    "plt.title('Distribution of points in test data')\n",
    "plt.grid()\n",
    "plt.show()\n",
    "sorted_yi = np.argsort(-test_class_distribution.values)\n",
    "for i in sorted_yi:\n",
    " print('Number of data points in class', i+1, ':',val_class_distribution.values[i], '(', np.round((val_class_distribution.values[i]/val_df.shape[0]*100), 3), '%)')\n",
    " print('-'*80)"
   ]
  },
  {
   "cell_type": "code",
   "execution_count": null,
   "metadata": {},
   "outputs": [],
   "source": []
  }
 ],
 "metadata": {
  "kernelspec": {
   "display_name": "Python 3",
   "language": "python",
   "name": "python3"
  },
  "language_info": {
   "codemirror_mode": {
    "name": "ipython",
    "version": 3
   },
   "file_extension": ".py",
   "mimetype": "text/x-python",
   "name": "python",
   "nbconvert_exporter": "python",
   "pygments_lexer": "ipython3",
   "version": "3.7.7"
  },
  "toc": {
   "base_numbering": 1,
   "nav_menu": {},
   "number_sections": true,
   "sideBar": true,
   "skip_h1_title": false,
   "title_cell": "Table of Contents",
   "title_sidebar": "Contents",
   "toc_cell": false,
   "toc_position": {},
   "toc_section_display": true,
   "toc_window_display": false
  }
 },
 "nbformat": 4,
 "nbformat_minor": 4
}
