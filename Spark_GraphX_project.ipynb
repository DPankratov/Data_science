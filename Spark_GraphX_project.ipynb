{
 "cells": [
  {
   "cell_type": "markdown",
   "metadata": {},
   "source": [
    "<h1>Spark GraphX</h1>"
   ]
  },
  {
   "cell_type": "code",
   "execution_count": 1,
   "metadata": {},
   "outputs": [],
   "source": [
    "import pandas as pd\n",
    "\n",
    "import findspark\n",
    "from pyspark.sql import SparkSession\n",
    "from graphframes import GraphFrame\n",
    "from pyspark.sql import SQLContext\n",
    "from pyspark import SparkContext\n",
    "\n",
    "findspark.init()\n",
    "\n",
    "sc = SparkContext()\n",
    "sqlContext = SQLContext(sc)\n",
    "\n",
    "spark = SparkSession.builder.appName('project').getOrCreate()"
   ]
  },
  {
   "cell_type": "markdown",
   "metadata": {},
   "source": [
    "<b>Generate a new RDD containing few selected US airport information, such as: (“BWI”, “Baltimore Washington Airport”, “JFK”, “NYC Airport”, “MIA”, “Miami Airport”, “LAX”, “Los Angeles Airport”, etc.)"
   ]
  },
  {
   "cell_type": "markdown",
   "metadata": {},
   "source": [
    "<b>Limit your airport selection to 10 airports"
   ]
  },
  {
   "cell_type": "code",
   "execution_count": 2,
   "metadata": {},
   "outputs": [],
   "source": [
    "airports = ['BWI', 'Baltimore Washington Airport', 'JFK', 'NYC Airport', 'MIA', 'Miami Airport', 'LAX', 'Los Angeles Airport', 'MHK', 'Manhattan Regional Airport', \n",
    "           'EUG', 'Eugene Airport', 'STL', 'St. Louis Lambert', 'CGI', 'Cape Girardeau', 'FWA', 'Fort Wayne', 'ORD', 'Chicago OHare']"
   ]
  },
  {
   "cell_type": "code",
   "execution_count": 3,
   "metadata": {},
   "outputs": [],
   "source": [
    "#creating 2 lists of full and abbreviations to build the dataframe\n",
    "air_abbr = []\n",
    "air_full = []\n",
    "for i in airports:\n",
    "    if len(i) == 3:\n",
    "        air_abbr.append(i)\n",
    "    else:\n",
    "        air_full.append(i)"
   ]
  },
  {
   "cell_type": "code",
   "execution_count": 4,
   "metadata": {},
   "outputs": [
    {
     "data": {
      "text/plain": [
       "['BWI', 'JFK', 'MIA', 'LAX', 'MHK', 'EUG', 'STL', 'CGI', 'FWA', 'ORD']"
      ]
     },
     "execution_count": 4,
     "metadata": {},
     "output_type": "execute_result"
    }
   ],
   "source": [
    "air_abbr"
   ]
  },
  {
   "cell_type": "code",
   "execution_count": 5,
   "metadata": {},
   "outputs": [
    {
     "data": {
      "text/plain": [
       "['Baltimore Washington Airport',\n",
       " 'NYC Airport',\n",
       " 'Miami Airport',\n",
       " 'Los Angeles Airport',\n",
       " 'Manhattan Regional Airport',\n",
       " 'Eugene Airport',\n",
       " 'St. Louis Lambert',\n",
       " 'Cape Girardeau',\n",
       " 'Fort Wayne',\n",
       " 'Chicago OHare']"
      ]
     },
     "execution_count": 5,
     "metadata": {},
     "output_type": "execute_result"
    }
   ],
   "source": [
    "air_full"
   ]
  },
  {
   "cell_type": "code",
   "execution_count": 6,
   "metadata": {},
   "outputs": [
    {
     "name": "stdout",
     "output_type": "stream",
     "text": [
      "{'BWI': 'Baltimore Washington Airport', 'JFK': 'NYC Airport', 'MIA': 'Miami Airport', 'LAX': 'Los Angeles Airport', 'MHK': 'Manhattan Regional Airport', 'EUG': 'Eugene Airport', 'STL': 'St. Louis Lambert', 'CGI': 'Cape Girardeau', 'FWA': 'Fort Wayne', 'ORD': 'Chicago OHare'}\n"
     ]
    }
   ],
   "source": [
    "dictionary = dict(zip(air_abbr, air_full))\n",
    "print(dictionary)"
   ]
  },
  {
   "cell_type": "code",
   "execution_count": 7,
   "metadata": {},
   "outputs": [],
   "source": [
    "airports_DF = pd.DataFrame(dictionary.items(), columns=['id', 'Airport Name'])"
   ]
  },
  {
   "cell_type": "code",
   "execution_count": 8,
   "metadata": {},
   "outputs": [
    {
     "data": {
      "text/html": [
       "<div>\n",
       "<style scoped>\n",
       "    .dataframe tbody tr th:only-of-type {\n",
       "        vertical-align: middle;\n",
       "    }\n",
       "\n",
       "    .dataframe tbody tr th {\n",
       "        vertical-align: top;\n",
       "    }\n",
       "\n",
       "    .dataframe thead th {\n",
       "        text-align: right;\n",
       "    }\n",
       "</style>\n",
       "<table border=\"1\" class=\"dataframe\">\n",
       "  <thead>\n",
       "    <tr style=\"text-align: right;\">\n",
       "      <th></th>\n",
       "      <th>id</th>\n",
       "      <th>Airport Name</th>\n",
       "    </tr>\n",
       "  </thead>\n",
       "  <tbody>\n",
       "    <tr>\n",
       "      <th>0</th>\n",
       "      <td>BWI</td>\n",
       "      <td>Baltimore Washington Airport</td>\n",
       "    </tr>\n",
       "    <tr>\n",
       "      <th>1</th>\n",
       "      <td>JFK</td>\n",
       "      <td>NYC Airport</td>\n",
       "    </tr>\n",
       "    <tr>\n",
       "      <th>2</th>\n",
       "      <td>MIA</td>\n",
       "      <td>Miami Airport</td>\n",
       "    </tr>\n",
       "    <tr>\n",
       "      <th>3</th>\n",
       "      <td>LAX</td>\n",
       "      <td>Los Angeles Airport</td>\n",
       "    </tr>\n",
       "    <tr>\n",
       "      <th>4</th>\n",
       "      <td>MHK</td>\n",
       "      <td>Manhattan Regional Airport</td>\n",
       "    </tr>\n",
       "    <tr>\n",
       "      <th>5</th>\n",
       "      <td>EUG</td>\n",
       "      <td>Eugene Airport</td>\n",
       "    </tr>\n",
       "    <tr>\n",
       "      <th>6</th>\n",
       "      <td>STL</td>\n",
       "      <td>St. Louis Lambert</td>\n",
       "    </tr>\n",
       "    <tr>\n",
       "      <th>7</th>\n",
       "      <td>CGI</td>\n",
       "      <td>Cape Girardeau</td>\n",
       "    </tr>\n",
       "    <tr>\n",
       "      <th>8</th>\n",
       "      <td>FWA</td>\n",
       "      <td>Fort Wayne</td>\n",
       "    </tr>\n",
       "    <tr>\n",
       "      <th>9</th>\n",
       "      <td>ORD</td>\n",
       "      <td>Chicago OHare</td>\n",
       "    </tr>\n",
       "  </tbody>\n",
       "</table>\n",
       "</div>"
      ],
      "text/plain": [
       "    id                  Airport Name\n",
       "0  BWI  Baltimore Washington Airport\n",
       "1  JFK                   NYC Airport\n",
       "2  MIA                 Miami Airport\n",
       "3  LAX           Los Angeles Airport\n",
       "4  MHK    Manhattan Regional Airport\n",
       "5  EUG                Eugene Airport\n",
       "6  STL             St. Louis Lambert\n",
       "7  CGI                Cape Girardeau\n",
       "8  FWA                    Fort Wayne\n",
       "9  ORD                 Chicago OHare"
      ]
     },
     "execution_count": 8,
     "metadata": {},
     "output_type": "execute_result"
    }
   ],
   "source": [
    "airports_DF"
   ]
  },
  {
   "cell_type": "markdown",
   "metadata": {},
   "source": [
    "<b>Generate random data for flights between two random airports (selected from the RDD above). Random data generated can be in the form (src, dst, flight number), (“BWI”, “LAX”, “1552”), etc."
   ]
  },
  {
   "cell_type": "markdown",
   "metadata": {},
   "source": [
    "<b>You may use similar algorithm from the previous homework, make sure you generate 200+ flights (if you have a randomize function that generates one flight data information, then call the function 200 times)"
   ]
  },
  {
   "cell_type": "code",
   "execution_count": 9,
   "metadata": {},
   "outputs": [],
   "source": [
    "edges = pd.DataFrame(columns=('src'\n",
    "    , 'dst'\n",
    "    , 'flight_num'\n",
    "    ))"
   ]
  },
  {
   "cell_type": "code",
   "execution_count": 10,
   "metadata": {},
   "outputs": [],
   "source": [
    "air_abbr_rdd = sc.parallelize(air_abbr) #rdd from abbr list"
   ]
  },
  {
   "cell_type": "code",
   "execution_count": 11,
   "metadata": {},
   "outputs": [],
   "source": [
    "from random import randint #populating edges DF with 200 instances\n",
    "\n",
    "for i in range(200):\n",
    "    airports = air_abbr_rdd.takeSample(False, 2)\n",
    "    flight_num = randint(100, 9999)\n",
    "    \n",
    "    data = [airports[0]\n",
    "        , airports[1]\n",
    "        , flight_num\n",
    "        ]\n",
    "    edges.loc[i] = [item for item in data]"
   ]
  },
  {
   "cell_type": "code",
   "execution_count": 12,
   "metadata": {},
   "outputs": [
    {
     "name": "stdout",
     "output_type": "stream",
     "text": [
      "+---+---+----------+\n",
      "|src|dst|flight_num|\n",
      "+---+---+----------+\n",
      "|JFK|ORD|       713|\n",
      "|ORD|BWI|      4022|\n",
      "|JFK|MIA|      5106|\n",
      "|MIA|MHK|       590|\n",
      "|LAX|EUG|      3065|\n",
      "|EUG|MIA|      4168|\n",
      "|MHK|CGI|      4281|\n",
      "|EUG|JFK|      4350|\n",
      "|MHK|EUG|      1131|\n",
      "|STL|MIA|      2051|\n",
      "|EUG|LAX|      7025|\n",
      "|ORD|EUG|      7456|\n",
      "|FWA|BWI|      5864|\n",
      "|BWI|EUG|      7523|\n",
      "|EUG|BWI|      2464|\n",
      "|CGI|ORD|      9946|\n",
      "|STL|FWA|      9804|\n",
      "|MHK|LAX|      1909|\n",
      "|ORD|LAX|      7075|\n",
      "|JFK|FWA|      8995|\n",
      "+---+---+----------+\n",
      "only showing top 20 rows\n",
      "\n"
     ]
    }
   ],
   "source": [
    "edge_df = spark.createDataFrame(edges) #edges to spark DF\n",
    "edge_df.show()"
   ]
  },
  {
   "cell_type": "code",
   "execution_count": 13,
   "metadata": {},
   "outputs": [
    {
     "name": "stdout",
     "output_type": "stream",
     "text": [
      "+---+--------------------+\n",
      "| id|        Airport Name|\n",
      "+---+--------------------+\n",
      "|BWI|Baltimore Washing...|\n",
      "|JFK|         NYC Airport|\n",
      "|MIA|       Miami Airport|\n",
      "|LAX| Los Angeles Airport|\n",
      "|MHK|Manhattan Regiona...|\n",
      "|EUG|      Eugene Airport|\n",
      "|STL|   St. Louis Lambert|\n",
      "|CGI|      Cape Girardeau|\n",
      "|FWA|          Fort Wayne|\n",
      "|ORD|       Chicago OHare|\n",
      "+---+--------------------+\n",
      "\n"
     ]
    }
   ],
   "source": [
    "airports_DF_spark = spark.createDataFrame(airports_DF)\n",
    "airports_DF_spark.show()"
   ]
  },
  {
   "cell_type": "code",
   "execution_count": 14,
   "metadata": {},
   "outputs": [],
   "source": [
    "Air_edge = edge_df.join(airports_DF_spark, edge_df.src == airports_DF_spark.id).drop(edge_df.src).drop(edge_df.dst).drop(edge_df.flight_num)"
   ]
  },
  {
   "cell_type": "code",
   "execution_count": 15,
   "metadata": {},
   "outputs": [
    {
     "name": "stdout",
     "output_type": "stream",
     "text": [
      "+---+----------------+\n",
      "|dst|Outgoing Flights|\n",
      "+---+----------------+\n",
      "|EUG|               9|\n",
      "|CGI|               8|\n",
      "|MIA|               9|\n",
      "|BWI|               9|\n",
      "|STL|               6|\n",
      "|MHK|               9|\n",
      "|ORD|               8|\n",
      "|FWA|               8|\n",
      "|LAX|               8|\n",
      "|JFK|               8|\n",
      "+---+----------------+\n",
      "\n",
      "+---+----------------+\n",
      "|src|Incoming Flights|\n",
      "+---+----------------+\n",
      "|EUG|               9|\n",
      "|CGI|               8|\n",
      "|MIA|               7|\n",
      "|BWI|               9|\n",
      "|STL|               9|\n",
      "|MHK|               7|\n",
      "|ORD|               8|\n",
      "|FWA|               7|\n",
      "|LAX|               9|\n",
      "|JFK|               9|\n",
      "+---+----------------+\n",
      "\n"
     ]
    }
   ],
   "source": [
    "#counting number of flights, leaving only distinct values\n",
    "from pyspark.sql.functions import countDistinct\n",
    "\n",
    "countIncomingDF = edge_df.select(\"src\", \"dst\")\\\n",
    "  .groupBy(\"src\")\\\n",
    "  .agg(countDistinct(\"dst\").alias(\"Incoming Flights\"))\n",
    "\n",
    "countOutgoingDF = edge_df.select(\"dst\", \"src\")\\\n",
    "  .groupBy(\"dst\")\\\n",
    "  .agg(countDistinct(\"src\").alias(\"Outgoing Flights\"))\n",
    "\n",
    "countOutgoingDF.show()\n",
    "countIncomingDF.show()"
   ]
  },
  {
   "cell_type": "code",
   "execution_count": 16,
   "metadata": {},
   "outputs": [],
   "source": [
    "#building the Dataframe\n",
    "Air_edge = Air_edge.join(countIncomingDF, Air_edge.id == countIncomingDF.src).distinct()"
   ]
  },
  {
   "cell_type": "code",
   "execution_count": 17,
   "metadata": {},
   "outputs": [],
   "source": [
    "Air_edge = Air_edge.join(countOutgoingDF, Air_edge.id == countOutgoingDF.dst).distinct()"
   ]
  },
  {
   "cell_type": "code",
   "execution_count": 18,
   "metadata": {},
   "outputs": [
    {
     "name": "stdout",
     "output_type": "stream",
     "text": [
      "+---+--------------------+---+----------------+---+----------------+\n",
      "| id|        Airport Name|src|Incoming Flights|dst|Outgoing Flights|\n",
      "+---+--------------------+---+----------------+---+----------------+\n",
      "|EUG|      Eugene Airport|EUG|               9|EUG|               9|\n",
      "|CGI|      Cape Girardeau|CGI|               8|CGI|               8|\n",
      "|MIA|       Miami Airport|MIA|               7|MIA|               9|\n",
      "|BWI|Baltimore Washing...|BWI|               9|BWI|               9|\n",
      "|STL|   St. Louis Lambert|STL|               9|STL|               6|\n",
      "|MHK|Manhattan Regiona...|MHK|               7|MHK|               9|\n",
      "|ORD|       Chicago OHare|ORD|               8|ORD|               8|\n",
      "|FWA|          Fort Wayne|FWA|               7|FWA|               8|\n",
      "|LAX| Los Angeles Airport|LAX|               9|LAX|               8|\n",
      "|JFK|         NYC Airport|JFK|               9|JFK|               8|\n",
      "+---+--------------------+---+----------------+---+----------------+\n",
      "\n"
     ]
    }
   ],
   "source": [
    "Air_edge.show()"
   ]
  },
  {
   "cell_type": "code",
   "execution_count": 19,
   "metadata": {},
   "outputs": [],
   "source": [
    "pandas_df = Air_edge.toPandas() #converting to pandas to delete unnecessary columns without getting an error"
   ]
  },
  {
   "cell_type": "code",
   "execution_count": 20,
   "metadata": {},
   "outputs": [],
   "source": [
    "pandas_df = pandas_df.drop(['src', 'dst'], axis=1) #nodes are ready"
   ]
  },
  {
   "cell_type": "code",
   "execution_count": 21,
   "metadata": {},
   "outputs": [],
   "source": [
    "nodes_df = spark.createDataFrame(pandas_df) #converting back to spark to build the graph"
   ]
  },
  {
   "cell_type": "markdown",
   "metadata": {},
   "source": [
    "<b>Generate the relationship graph"
   ]
  },
  {
   "cell_type": "code",
   "execution_count": 22,
   "metadata": {},
   "outputs": [],
   "source": [
    "g = GraphFrame(nodes_df, edge_df)"
   ]
  },
  {
   "cell_type": "code",
   "execution_count": 23,
   "metadata": {},
   "outputs": [
    {
     "name": "stdout",
     "output_type": "stream",
     "text": [
      "+---+--------------------+----------------+----------------+\n",
      "| id|        Airport Name|Incoming Flights|Outgoing Flights|\n",
      "+---+--------------------+----------------+----------------+\n",
      "|EUG|      Eugene Airport|               9|               9|\n",
      "|CGI|      Cape Girardeau|               8|               8|\n",
      "|MIA|       Miami Airport|               7|               9|\n",
      "|BWI|Baltimore Washing...|               9|               9|\n",
      "|STL|   St. Louis Lambert|               9|               6|\n",
      "|MHK|Manhattan Regiona...|               7|               9|\n",
      "|ORD|       Chicago OHare|               8|               8|\n",
      "|FWA|          Fort Wayne|               7|               8|\n",
      "|LAX| Los Angeles Airport|               9|               8|\n",
      "|JFK|         NYC Airport|               9|               8|\n",
      "+---+--------------------+----------------+----------------+\n",
      "\n",
      "+---+---+----------+\n",
      "|src|dst|flight_num|\n",
      "+---+---+----------+\n",
      "|JFK|ORD|       713|\n",
      "|ORD|BWI|      4022|\n",
      "|JFK|MIA|      5106|\n",
      "|MIA|MHK|       590|\n",
      "|LAX|EUG|      3065|\n",
      "|EUG|MIA|      4168|\n",
      "|MHK|CGI|      4281|\n",
      "|EUG|JFK|      4350|\n",
      "|MHK|EUG|      1131|\n",
      "|STL|MIA|      2051|\n",
      "|EUG|LAX|      7025|\n",
      "|ORD|EUG|      7456|\n",
      "|FWA|BWI|      5864|\n",
      "|BWI|EUG|      7523|\n",
      "|EUG|BWI|      2464|\n",
      "|CGI|ORD|      9946|\n",
      "|STL|FWA|      9804|\n",
      "|MHK|LAX|      1909|\n",
      "|ORD|LAX|      7075|\n",
      "|JFK|FWA|      8995|\n",
      "+---+---+----------+\n",
      "only showing top 20 rows\n",
      "\n"
     ]
    }
   ],
   "source": [
    "# Take a look at the vertices and edges\n",
    "g.vertices.show()\n",
    "g.edges.show()"
   ]
  },
  {
   "cell_type": "code",
   "execution_count": 24,
   "metadata": {},
   "outputs": [
    {
     "name": "stdout",
     "output_type": "stream",
     "text": [
      "+---+--------+\n",
      "| id|inDegree|\n",
      "+---+--------+\n",
      "|MHK|      30|\n",
      "|BWI|      29|\n",
      "|JFK|      21|\n",
      "|FWA|      20|\n",
      "|MIA|      19|\n",
      "|CGI|      18|\n",
      "|LAX|      17|\n",
      "|EUG|      16|\n",
      "|STL|      15|\n",
      "|ORD|      15|\n",
      "+---+--------+\n",
      "\n",
      "+---+---------+\n",
      "| id|outDegree|\n",
      "+---+---------+\n",
      "|MIA|       25|\n",
      "|CGI|       23|\n",
      "|EUG|       21|\n",
      "|BWI|       21|\n",
      "|LAX|       21|\n",
      "|JFK|       21|\n",
      "|STL|       20|\n",
      "|ORD|       18|\n",
      "|FWA|       17|\n",
      "|MHK|       13|\n",
      "+---+---------+\n",
      "\n",
      "+---+------+\n",
      "| id|degree|\n",
      "+---+------+\n",
      "|BWI|    50|\n",
      "|MIA|    44|\n",
      "|MHK|    43|\n",
      "|JFK|    42|\n",
      "|CGI|    41|\n",
      "|LAX|    38|\n",
      "|EUG|    37|\n",
      "|FWA|    37|\n",
      "|STL|    35|\n",
      "|ORD|    33|\n",
      "+---+------+\n",
      "\n"
     ]
    }
   ],
   "source": [
    "inDegreeDF=g.inDegrees\n",
    "outDegreeDF=g.outDegrees\n",
    "degreeDF=g.degrees\n",
    "\n",
    "inDegreeDF.sort(['inDegree'],ascending=[0]).show() # Check the number of head ends adjacent to a vertex \n",
    "outDegreeDF.sort(['outDegree'],ascending=[0]).show() # Check the number of tail ends adjacent to a vertex \n",
    "degreeDF.sort(['degree'],ascending=[0]).show() # Check the number of edges of each vertex"
   ]
  },
  {
   "cell_type": "markdown",
   "metadata": {},
   "source": [
    "<B>Find the airport with the largest number of departure flight"
   ]
  },
  {
   "cell_type": "code",
   "execution_count": 25,
   "metadata": {},
   "outputs": [],
   "source": [
    "verticesDF=g.vertices"
   ]
  },
  {
   "cell_type": "code",
   "execution_count": 26,
   "metadata": {},
   "outputs": [
    {
     "name": "stdout",
     "output_type": "stream",
     "text": [
      "+---+--------------------+----------------+----------------+\n",
      "| id|        Airport Name|Incoming Flights|Outgoing Flights|\n",
      "+---+--------------------+----------------+----------------+\n",
      "|BWI|Baltimore Washing...|               9|               9|\n",
      "|MHK|Manhattan Regiona...|               7|               9|\n",
      "|EUG|      Eugene Airport|               9|               9|\n",
      "|MIA|       Miami Airport|               7|               9|\n",
      "|JFK|         NYC Airport|               9|               8|\n",
      "|FWA|          Fort Wayne|               7|               8|\n",
      "|ORD|       Chicago OHare|               8|               8|\n",
      "|CGI|      Cape Girardeau|               8|               8|\n",
      "|LAX| Los Angeles Airport|               9|               8|\n",
      "|STL|   St. Louis Lambert|               9|               6|\n",
      "+---+--------------------+----------------+----------------+\n",
      "\n"
     ]
    }
   ],
   "source": [
    "verticesDF.sort(['Outgoing Flights'],ascending=[0]).show()"
   ]
  },
  {
   "cell_type": "code",
   "execution_count": 27,
   "metadata": {},
   "outputs": [],
   "source": [
    "import matplotlib.pyplot as plt"
   ]
  },
  {
   "cell_type": "code",
   "execution_count": 28,
   "metadata": {},
   "outputs": [],
   "source": [
    "pandas_df = verticesDF.toPandas()  #converting to pandas for better visualization\n",
    "pandas_df_sorted = pandas_df.sort_values('Outgoing Flights')"
   ]
  },
  {
   "cell_type": "code",
   "execution_count": 29,
   "metadata": {},
   "outputs": [],
   "source": [
    "x = pandas_df_sorted['Airport Name']\n",
    "y = pandas_df_sorted['Outgoing Flights']"
   ]
  },
  {
   "cell_type": "code",
   "execution_count": 30,
   "metadata": {},
   "outputs": [
    {
     "data": {
      "image/png": "[encoded data removed]",
      "text/plain": [
       "<Figure size 1080x360 with 1 Axes>"
      ]
     },
     "metadata": {
      "needs_background": "light"
     },
     "output_type": "display_data"
    }
   ],
   "source": [
    "plt.figure(figsize=(15, 5))\n",
    "plt.bar(x, y)\n",
    "plt.xticks(rotation=90)\n",
    "plt.ylabel('Outgoing Flights', fontweight='bold', fontsize='large')\n",
    "plt.xlabel('Airports', fontweight='bold', fontsize='large');"
   ]
  },
  {
   "cell_type": "code",
   "execution_count": 31,
   "metadata": {},
   "outputs": [
    {
     "data": {
      "text/html": [
       "<div>\n",
       "<style scoped>\n",
       "    .dataframe tbody tr th:only-of-type {\n",
       "        vertical-align: middle;\n",
       "    }\n",
       "\n",
       "    .dataframe tbody tr th {\n",
       "        vertical-align: top;\n",
       "    }\n",
       "\n",
       "    .dataframe thead th {\n",
       "        text-align: right;\n",
       "    }\n",
       "</style>\n",
       "<table border=\"1\" class=\"dataframe\">\n",
       "  <thead>\n",
       "    <tr style=\"text-align: right;\">\n",
       "      <th></th>\n",
       "      <th>id</th>\n",
       "      <th>Airport Name</th>\n",
       "      <th>Incoming Flights</th>\n",
       "      <th>Outgoing Flights</th>\n",
       "    </tr>\n",
       "  </thead>\n",
       "  <tbody>\n",
       "    <tr>\n",
       "      <th>0</th>\n",
       "      <td>EUG</td>\n",
       "      <td>Eugene Airport</td>\n",
       "      <td>9</td>\n",
       "      <td>9</td>\n",
       "    </tr>\n",
       "    <tr>\n",
       "      <th>2</th>\n",
       "      <td>MIA</td>\n",
       "      <td>Miami Airport</td>\n",
       "      <td>7</td>\n",
       "      <td>9</td>\n",
       "    </tr>\n",
       "    <tr>\n",
       "      <th>3</th>\n",
       "      <td>BWI</td>\n",
       "      <td>Baltimore Washington Airport</td>\n",
       "      <td>9</td>\n",
       "      <td>9</td>\n",
       "    </tr>\n",
       "    <tr>\n",
       "      <th>5</th>\n",
       "      <td>MHK</td>\n",
       "      <td>Manhattan Regional Airport</td>\n",
       "      <td>7</td>\n",
       "      <td>9</td>\n",
       "    </tr>\n",
       "  </tbody>\n",
       "</table>\n",
       "</div>"
      ],
      "text/plain": [
       "    id                  Airport Name  Incoming Flights  Outgoing Flights\n",
       "0  EUG                Eugene Airport                 9                 9\n",
       "2  MIA                 Miami Airport                 7                 9\n",
       "3  BWI  Baltimore Washington Airport                 9                 9\n",
       "5  MHK    Manhattan Regional Airport                 7                 9"
      ]
     },
     "execution_count": 31,
     "metadata": {},
     "output_type": "execute_result"
    }
   ],
   "source": [
    "pandas_df[pandas_df['Outgoing Flights'] == pandas_df['Outgoing Flights'].max()] #there are few equal flights with max departures"
   ]
  },
  {
   "cell_type": "markdown",
   "metadata": {},
   "source": [
    "<b>Find the airport with the largest number of arriving flight"
   ]
  },
  {
   "cell_type": "code",
   "execution_count": 32,
   "metadata": {},
   "outputs": [
    {
     "name": "stdout",
     "output_type": "stream",
     "text": [
      "+---+--------------------+----------------+----------------+\n",
      "| id|        Airport Name|Incoming Flights|Outgoing Flights|\n",
      "+---+--------------------+----------------+----------------+\n",
      "|EUG|      Eugene Airport|               9|               9|\n",
      "|BWI|Baltimore Washing...|               9|               9|\n",
      "|STL|   St. Louis Lambert|               9|               6|\n",
      "|LAX| Los Angeles Airport|               9|               8|\n",
      "|JFK|         NYC Airport|               9|               8|\n",
      "|CGI|      Cape Girardeau|               8|               8|\n",
      "|ORD|       Chicago OHare|               8|               8|\n",
      "|MHK|Manhattan Regiona...|               7|               9|\n",
      "|MIA|       Miami Airport|               7|               9|\n",
      "|FWA|          Fort Wayne|               7|               8|\n",
      "+---+--------------------+----------------+----------------+\n",
      "\n"
     ]
    }
   ],
   "source": [
    "verticesDF.sort(['Incoming Flights'],ascending=[0]).show()"
   ]
  },
  {
   "cell_type": "code",
   "execution_count": 33,
   "metadata": {},
   "outputs": [],
   "source": [
    "pandas_df = verticesDF.toPandas()  #converting to pandas for better visualization\n",
    "pandas_df_sorted = pandas_df.sort_values('Incoming Flights')"
   ]
  },
  {
   "cell_type": "code",
   "execution_count": 34,
   "metadata": {},
   "outputs": [],
   "source": [
    "x = pandas_df_sorted['Airport Name']\n",
    "y = pandas_df_sorted['Incoming Flights']"
   ]
  },
  {
   "cell_type": "code",
   "execution_count": 35,
   "metadata": {},
   "outputs": [
    {
     "data": {
      "image/png": "[encoded data removed]",
      "text/plain": [
       "<Figure size 1080x360 with 1 Axes>"
      ]
     },
     "metadata": {
      "needs_background": "light"
     },
     "output_type": "display_data"
    }
   ],
   "source": [
    "plt.figure(figsize=(15, 5))\n",
    "plt.bar(x, y)\n",
    "plt.xticks(rotation=90)\n",
    "plt.ylabel('Incoming Flights', fontweight='bold', fontsize='large')\n",
    "plt.xlabel('Airports', fontweight='bold', fontsize='large');"
   ]
  },
  {
   "cell_type": "code",
   "execution_count": 36,
   "metadata": {},
   "outputs": [
    {
     "data": {
      "text/html": [
       "<div>\n",
       "<style scoped>\n",
       "    .dataframe tbody tr th:only-of-type {\n",
       "        vertical-align: middle;\n",
       "    }\n",
       "\n",
       "    .dataframe tbody tr th {\n",
       "        vertical-align: top;\n",
       "    }\n",
       "\n",
       "    .dataframe thead th {\n",
       "        text-align: right;\n",
       "    }\n",
       "</style>\n",
       "<table border=\"1\" class=\"dataframe\">\n",
       "  <thead>\n",
       "    <tr style=\"text-align: right;\">\n",
       "      <th></th>\n",
       "      <th>id</th>\n",
       "      <th>Airport Name</th>\n",
       "      <th>Incoming Flights</th>\n",
       "      <th>Outgoing Flights</th>\n",
       "    </tr>\n",
       "  </thead>\n",
       "  <tbody>\n",
       "    <tr>\n",
       "      <th>0</th>\n",
       "      <td>EUG</td>\n",
       "      <td>Eugene Airport</td>\n",
       "      <td>9</td>\n",
       "      <td>9</td>\n",
       "    </tr>\n",
       "    <tr>\n",
       "      <th>3</th>\n",
       "      <td>BWI</td>\n",
       "      <td>Baltimore Washington Airport</td>\n",
       "      <td>9</td>\n",
       "      <td>9</td>\n",
       "    </tr>\n",
       "    <tr>\n",
       "      <th>4</th>\n",
       "      <td>STL</td>\n",
       "      <td>St. Louis Lambert</td>\n",
       "      <td>9</td>\n",
       "      <td>6</td>\n",
       "    </tr>\n",
       "    <tr>\n",
       "      <th>8</th>\n",
       "      <td>LAX</td>\n",
       "      <td>Los Angeles Airport</td>\n",
       "      <td>9</td>\n",
       "      <td>8</td>\n",
       "    </tr>\n",
       "    <tr>\n",
       "      <th>9</th>\n",
       "      <td>JFK</td>\n",
       "      <td>NYC Airport</td>\n",
       "      <td>9</td>\n",
       "      <td>8</td>\n",
       "    </tr>\n",
       "  </tbody>\n",
       "</table>\n",
       "</div>"
      ],
      "text/plain": [
       "    id                  Airport Name  Incoming Flights  Outgoing Flights\n",
       "0  EUG                Eugene Airport                 9                 9\n",
       "3  BWI  Baltimore Washington Airport                 9                 9\n",
       "4  STL             St. Louis Lambert                 9                 6\n",
       "8  LAX           Los Angeles Airport                 9                 8\n",
       "9  JFK                   NYC Airport                 9                 8"
      ]
     },
     "execution_count": 36,
     "metadata": {},
     "output_type": "execute_result"
    }
   ],
   "source": [
    "pandas_df[pandas_df['Incoming Flights'] == pandas_df['Incoming Flights'].max()] #there are few equal flights with max arrivals"
   ]
  },
  {
   "cell_type": "markdown",
   "metadata": {},
   "source": [
    "<b>Find the busiest airport"
   ]
  },
  {
   "cell_type": "code",
   "execution_count": 37,
   "metadata": {},
   "outputs": [],
   "source": [
    "pandas_df['All Flights'] = pandas_df['Incoming Flights'] + pandas_df['Outgoing Flights']"
   ]
  },
  {
   "cell_type": "code",
   "execution_count": 38,
   "metadata": {},
   "outputs": [],
   "source": [
    "pandas_df_sorted = pandas_df.sort_values('All Flights')"
   ]
  },
  {
   "cell_type": "code",
   "execution_count": 39,
   "metadata": {},
   "outputs": [],
   "source": [
    "x = pandas_df_sorted['Airport Name']\n",
    "y = pandas_df_sorted['All Flights']"
   ]
  },
  {
   "cell_type": "code",
   "execution_count": 40,
   "metadata": {},
   "outputs": [
    {
     "data": {
      "image/png": "[encoded data removed]",
      "text/plain": [
       "<Figure size 1080x360 with 1 Axes>"
      ]
     },
     "metadata": {
      "needs_background": "light"
     },
     "output_type": "display_data"
    }
   ],
   "source": [
    "plt.figure(figsize=(15, 5))\n",
    "plt.bar(x, y)\n",
    "plt.xticks(rotation=90)\n",
    "plt.ylabel('All Flights', fontweight='bold', fontsize='large')\n",
    "plt.xlabel('Airports', fontweight='bold', fontsize='large');"
   ]
  },
  {
   "cell_type": "code",
   "execution_count": 41,
   "metadata": {},
   "outputs": [
    {
     "data": {
      "text/html": [
       "<div>\n",
       "<style scoped>\n",
       "    .dataframe tbody tr th:only-of-type {\n",
       "        vertical-align: middle;\n",
       "    }\n",
       "\n",
       "    .dataframe tbody tr th {\n",
       "        vertical-align: top;\n",
       "    }\n",
       "\n",
       "    .dataframe thead th {\n",
       "        text-align: right;\n",
       "    }\n",
       "</style>\n",
       "<table border=\"1\" class=\"dataframe\">\n",
       "  <thead>\n",
       "    <tr style=\"text-align: right;\">\n",
       "      <th></th>\n",
       "      <th>id</th>\n",
       "      <th>Airport Name</th>\n",
       "      <th>Incoming Flights</th>\n",
       "      <th>Outgoing Flights</th>\n",
       "      <th>All Flights</th>\n",
       "    </tr>\n",
       "  </thead>\n",
       "  <tbody>\n",
       "    <tr>\n",
       "      <th>0</th>\n",
       "      <td>EUG</td>\n",
       "      <td>Eugene Airport</td>\n",
       "      <td>9</td>\n",
       "      <td>9</td>\n",
       "      <td>18</td>\n",
       "    </tr>\n",
       "    <tr>\n",
       "      <th>3</th>\n",
       "      <td>BWI</td>\n",
       "      <td>Baltimore Washington Airport</td>\n",
       "      <td>9</td>\n",
       "      <td>9</td>\n",
       "      <td>18</td>\n",
       "    </tr>\n",
       "  </tbody>\n",
       "</table>\n",
       "</div>"
      ],
      "text/plain": [
       "    id                  Airport Name  Incoming Flights  Outgoing Flights  \\\n",
       "0  EUG                Eugene Airport                 9                 9   \n",
       "3  BWI  Baltimore Washington Airport                 9                 9   \n",
       "\n",
       "   All Flights  \n",
       "0           18  \n",
       "3           18  "
      ]
     },
     "execution_count": 41,
     "metadata": {},
     "output_type": "execute_result"
    }
   ],
   "source": [
    "pandas_df[pandas_df['All Flights'] == pandas_df['All Flights'].max()] #the busiest airports"
   ]
  }
 ],
 "metadata": {
  "kernelspec": {
   "display_name": "Python 3",
   "language": "python",
   "name": "python3"
  },
  "language_info": {
   "codemirror_mode": {
    "name": "ipython",
    "version": 3
   },
   "file_extension": ".py",
   "mimetype": "text/x-python",
   "name": "python",
   "nbconvert_exporter": "python",
   "pygments_lexer": "ipython3",
   "version": "3.7.7"
  }
 },
 "nbformat": 4,
 "nbformat_minor": 4
}
